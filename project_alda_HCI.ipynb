{
  "nbformat": 4,
  "nbformat_minor": 0,
  "metadata": {
    "colab": {
      "name": "project_CNN .ipynb",
      "provenance": [],
      "collapsed_sections": []
    },
    "kernelspec": {
      "name": "python3",
      "display_name": "Python 3"
    },
    "accelerator": "TPU"
  },
  "cells": [
    {
      "cell_type": "code",
      "metadata": {
        "id": "3vOB79tXZoND",
        "colab_type": "code",
        "colab": {}
      },
      "source": [
        "!pip install -q matplotlib\n",
        "!pip install -q pandas\n",
        "!pip install -q numpy\n",
        "!pip install -q seaborn\n",
        "!pip install -q sklearn\n",
        "!pip install -q scipy\n",
        "!pip install -q keras\n"
      ],
      "execution_count": 0,
      "outputs": []
    },
    {
      "cell_type": "code",
      "metadata": {
        "id": "psgyE2geaimd",
        "colab_type": "code",
        "outputId": "0eb6739e-a2a0-4662-d448-4bd2c564aa9f",
        "colab": {
          "base_uri": "https://localhost:8080/",
          "height": 34
        }
      },
      "source": [
        "import numpy as np\n",
        "import pandas as pd\n",
        "import warnings\n",
        "from matplotlib import*\n",
        "import matplotlib.pyplot as plt\n",
        "warnings.filterwarnings(\"ignore\")\n",
        "from sklearn.decomposition import PCA\n",
        "\n",
        "import pandas as pd\n",
        "from sklearn.svm import SVC\n",
        "from sklearn.model_selection import StratifiedShuffleSplit\n",
        "import numpy as np\n",
        "import matplotlib.pyplot as plt\n",
        "from sklearn.metrics import accuracy_score\n",
        "from sklearn.metrics import f1_score\n",
        "from sklearn.metrics import recall_score\n",
        "from sklearn.metrics import precision_score\n",
        "from numpy.linalg import inv\n",
        "from sklearn.model_selection import GridSearchCV\n",
        "import keras\n",
        "from matplotlib import pyplot\n",
        "from sklearn.preprocessing import StandardScaler\n",
        "from keras.models import Sequential\n",
        "from keras.layers import Dense\n",
        "from keras.layers import Flatten\n",
        "from keras.layers import Dropout\n",
        "from keras.layers.convolutional import Conv1D\n",
        "from keras.layers.convolutional import MaxPooling1D\n",
        "from keras.utils import to_categorical\n",
        "from keras.models import Sequential\n",
        "from keras.layers import LSTM\n",
        "from keras.layers.core import Dense, Dropout\n",
        "import pickle\n",
        "from mlxtend.plotting import plot_decision_regions\n",
        "import matplotlib.pyplot as plt\n"
      ],
      "execution_count": 0,
      "outputs": [
        {
          "output_type": "stream",
          "text": [
            "Using TensorFlow backend.\n"
          ],
          "name": "stderr"
        }
      ]
    },
    {
      "cell_type": "code",
      "metadata": {
        "id": "Lkeg5DMyZ1s0",
        "colab_type": "code",
        "outputId": "1db4290e-fbac-446f-c4a2-2ff8eef9435e",
        "colab": {
          "base_uri": "https://localhost:8080/",
          "height": 360
        }
      },
      "source": [
        "!apt-get install -y -qq software-properties-common python-software-properties module-init-tools\n",
        "!add-apt-repository -y ppa:alessandro-strada/ppa 2>&1 > /dev/null\n",
        "!apt-get update -qq 2>&1 > /dev/null\n",
        "!apt-get -y install -qq google-drive-ocamlfuse fuse\n",
        "from google.colab import auth\n",
        "auth.authenticate_user()\n",
        "from oauth2client.client import GoogleCredentials\n",
        "creds = GoogleCredentials.get_application_default()\n",
        "import getpass\n",
        "!google-drive-ocamlfuse -headless -id={creds.client_id} -secret={creds.client_secret} < /dev/null 2>&1 | grep URL\n",
        "vcode = getpass.getpass()\n",
        "!echo {vcode} | google-drive-ocamlfuse -headless -id={creds.client_id} -secret={creds.client_secret}"
      ],
      "execution_count": 0,
      "outputs": [
        {
          "output_type": "stream",
          "text": [
            "E: Package 'python-software-properties' has no installation candidate\n",
            "Selecting previously unselected package google-drive-ocamlfuse.\n",
            "(Reading database ... 145605 files and directories currently installed.)\n",
            "Preparing to unpack .../google-drive-ocamlfuse_0.7.14-0ubuntu1~ubuntu18.04.1_amd64.deb ...\n",
            "Unpacking google-drive-ocamlfuse (0.7.14-0ubuntu1~ubuntu18.04.1) ...\n",
            "Setting up google-drive-ocamlfuse (0.7.14-0ubuntu1~ubuntu18.04.1) ...\n",
            "Processing triggers for man-db (2.8.3-2ubuntu0.1) ...\n",
            "WARNING:tensorflow:\n",
            "The TensorFlow contrib module will not be included in TensorFlow 2.0.\n",
            "For more information, please see:\n",
            "  * https://github.com/tensorflow/community/blob/master/rfcs/20180907-contrib-sunset.md\n",
            "  * https://github.com/tensorflow/addons\n",
            "  * https://github.com/tensorflow/io (for I/O related ops)\n",
            "If you depend on functionality not listed there, please file an issue.\n",
            "\n",
            "Please, open the following URL in a web browser: https://accounts.google.com/o/oauth2/auth?client_id=32555940559.apps.googleusercontent.com&redirect_uri=urn%3Aietf%3Awg%3Aoauth%3A2.0%3Aoob&scope=https%3A%2F%2Fwww.googleapis.com%2Fauth%2Fdrive&response_type=code&access_type=offline&approval_prompt=force\n",
            "··········\n",
            "Please, open the following URL in a web browser: https://accounts.google.com/o/oauth2/auth?client_id=32555940559.apps.googleusercontent.com&redirect_uri=urn%3Aietf%3Awg%3Aoauth%3A2.0%3Aoob&scope=https%3A%2F%2Fwww.googleapis.com%2Fauth%2Fdrive&response_type=code&access_type=offline&approval_prompt=force\n",
            "Please enter the verification code: Access token retrieved correctly.\n"
          ],
          "name": "stdout"
        }
      ]
    },
    {
      "cell_type": "code",
      "metadata": {
        "id": "TwjQ18P7aczg",
        "colab_type": "code",
        "colab": {}
      },
      "source": [
        "!mkdir -p drive\n",
        "!google-drive-ocamlfuse drive"
      ],
      "execution_count": 0,
      "outputs": []
    },
    {
      "cell_type": "code",
      "metadata": {
        "id": "iX5glOsJqLZN",
        "colab_type": "code",
        "outputId": "5937bee0-6f23-4eac-f091-dbe28d6abbfb",
        "colab": {
          "base_uri": "https://localhost:8080/",
          "height": 34
        }
      },
      "source": [
        "features = list()\n",
        "with open('drive/ALDA/dataset/' +'features.txt') as f:\n",
        "    features = [line.split()[1] for line in f.readlines()]\n",
        "print('No of Features: {}'.format(len(features)))"
      ],
      "execution_count": 0,
      "outputs": [
        {
          "output_type": "stream",
          "text": [
            "No of Features: 561\n"
          ],
          "name": "stdout"
        }
      ]
    },
    {
      "cell_type": "code",
      "metadata": {
        "id": "VFt1cTkothfc",
        "colab_type": "code",
        "outputId": "ed8de618-4f5a-4893-92be-0de97226e610",
        "colab": {
          "base_uri": "https://localhost:8080/",
          "height": 34
        }
      },
      "source": [
        "X_train = pd.read_csv('drive/ALDA/dataset/train/X_train.txt', delim_whitespace=True, header=None)\n",
        "Y_train = pd.read_csv('drive/ALDA/dataset/train/y_train.txt', delim_whitespace=True, header=None)\n",
        "pca = PCA(n_components=561)\n",
        "Components = pca.fit_transform(X_train)\n",
        "\n",
        "\n",
        "pca_new = PCA(n_components=100)\n",
        "X_train_new = pca_new.fit_transform(X_train)\n",
        "\n",
        "print(X_train_new.shape)\n",
        "X_test = pd.read_csv('drive/ALDA/dataset/test/X_test.txt', delim_whitespace=True, header=None)\n",
        "Y_test = pd.read_csv('drive/ALDA/dataset/test/y_test.txt', delim_whitespace=True, header=None)\n",
        "\n",
        "\n",
        "X_test_new = pca_new.transform(X_test)\n"
      ],
      "execution_count": 0,
      "outputs": [
        {
          "output_type": "stream",
          "text": [
            "(7352, 100)\n"
          ],
          "name": "stdout"
        }
      ]
    },
    {
      "cell_type": "code",
      "metadata": {
        "id": "pkbOG9b0uKUm",
        "colab_type": "code",
        "colab": {}
      },
      "source": [
        "C = [0.1,0.2,0.3,1,5,10,20,100,200,1000]\n",
        "degree = [1,2,3,4,5]\n",
        "coef0 = [0.0001, 0.001, 0.002, 0.01, 0.02, 0.1, 0.2, 0.3, 1, 2, 5, 10]\n",
        "gamma = [0.0001,0.001, 0.002, 0.01, 0.02, 0.03, 0.1, 0.2, 1, 2, 3]\n"
      ],
      "execution_count": 0,
      "outputs": []
    },
    {
      "cell_type": "code",
      "metadata": {
        "id": "-TApHxO1uMWV",
        "colab_type": "code",
        "outputId": "fb3a024c-16c9-4dd1-dd35-121622b4c282",
        "colab": {
          "base_uri": "https://localhost:8080/",
          "height": 85
        }
      },
      "source": [
        ""
      ],
      "execution_count": 0,
      "outputs": [
        {
          "output_type": "stream",
          "text": [
            "Values of parameter for which results are optimal are:\n",
            "{'C': 1, 'kernel': 'linear'}\n",
            "0.9436887921653971\n",
            "0.9640312181879878\n"
          ],
          "name": "stdout"
        }
      ]
    },
    {
      "cell_type": "code",
      "metadata": {
        "id": "p6c1BOs2uPaO",
        "colab_type": "code",
        "colab": {}
      },
      "source": [
        "teuned_parameters = [{'kernel':['linear'],'C': C }]\n",
        "scores ='accuracy'\n",
        "clf =  GridSearchCV(SVC(),teuned_parameters, scoring = scores)\n",
        "clf.fit(X_train_new,Y_train)\n",
        "print(\"Values of parameter for which results are optimal are:\")\n",
        "\n",
        "print(clf.best_params_ )\n",
        "print(clf.best_score_)\n",
        "print(accuracy_score(Y_test,clf.predict(X_test_new)))"
      ],
      "execution_count": 0,
      "outputs": []
    },
    {
      "cell_type": "code",
      "metadata": {
        "id": "eNTvQTg8R-k7",
        "colab_type": "code",
        "colab": {}
      },
      "source": [
        "teuned_parameters = [{'kernel':['rbf'],'C': C, 'gamma':gamma}]\n",
        "scores ='accuracy'\n",
        "clf =  GridSearchCV(SVC(),teuned_parameters, scoring = scores)\n",
        "clf.fit(X_train_new,Y_train)\n",
        "print(\"Values of parameter for which results are optimal are:\")\n",
        "\n",
        "print(clf.best_params_ )\n",
        "print(clf.best_score_)\n",
        "print(accuracy_score(Y_test,clf.predict(X_test_new)))"
      ],
      "execution_count": 0,
      "outputs": []
    },
    {
      "cell_type": "code",
      "metadata": {
        "id": "JCxif-HHu9rO",
        "colab_type": "code",
        "colab": {}
      },
      "source": [
        "\n",
        "filename = 'drive/ALDA/dataset/svm_radial_kernek.sav'\n",
        "pickle.dump(clf, open(filename, 'wb'))"
      ],
      "execution_count": 0,
      "outputs": []
    },
    {
      "cell_type": "code",
      "metadata": {
        "id": "LptGVgaKmjDf",
        "colab_type": "code",
        "colab": {}
      },
      "source": [
        "filename = 'drive/ALDA/dataset/svm_radial_kernek.sav'\n",
        "loaded_model = pickle.load(open(filename, 'rb'))"
      ],
      "execution_count": 0,
      "outputs": []
    },
    {
      "cell_type": "markdown",
      "metadata": {
        "id": "0Yb_k8O2vAp1",
        "colab_type": "text"
      },
      "source": [
        "## 1D-CNN\n"
      ]
    },
    {
      "cell_type": "code",
      "metadata": {
        "id": "PYxq1BTvu_y9",
        "colab_type": "code",
        "colab": {}
      },
      "source": [
        "import keras\n",
        "from matplotlib import pyplot\n",
        "from sklearn.preprocessing import StandardScaler\n",
        "from keras.models import Sequential\n",
        "from keras.layers import Dense\n",
        "from keras.layers import Flatten\n",
        "from keras.layers import Dropout\n",
        "from keras.layers.convolutional import Conv1D\n",
        "from keras.layers.convolutional import MaxPooling1D\n",
        "from keras.utils import to_categorical\n",
        "from keras.models import Sequential\n",
        "from keras.layers import LSTM\n",
        "from keras.layers.core import Dense, Dropout\n",
        "from sklearn.preprocessing import StandardScaler\n",
        "from keras.models import Sequential\n",
        "from keras.layers import Dense\n",
        "from keras.layers import Flatten\n",
        "from keras.layers import Dropout\n",
        "from keras.layers.convolutional import Conv1D\n",
        "from keras.layers.convolutional import MaxPooling1D\n",
        "from keras.utils import to_categorical\n",
        "from keras.models import Sequential\n",
        "from keras.layers import LSTM\n",
        "from keras.layers.core import Dense, Dropout\n",
        "from sklearn import preprocessing\n",
        "import os\n",
        "from keras.callbacks import TensorBoard, ModelCheckpoint, EarlyStopping, CSVLogger\n",
        "import time"
      ],
      "execution_count": 0,
      "outputs": []
    },
    {
      "cell_type": "code",
      "metadata": {
        "id": "Cv4kf2CyG1lS",
        "colab_type": "code",
        "colab": {}
      },
      "source": [
        "# TensorBoard logs\n",
        "tb = TensorBoard(log_dir=os.path.join('drive/ALDA/', 'logs', \"CNN\"))\n",
        "\n",
        "# Save results.\n",
        "timestamp = time.time()\n",
        "csv_logger = CSVLogger(os.path.join('drive/ALDA/', 'logs', \"CNN\" + '-' + 'training-' + \\\n",
        "    str(timestamp) + '.log'))\n",
        "\n",
        "#RNN_LSTM"
      ],
      "execution_count": 0,
      "outputs": []
    },
    {
      "cell_type": "code",
      "metadata": {
        "id": "J__LveC9EqM_",
        "colab_type": "code",
        "outputId": "c3e379dd-248b-4c5d-e390-031b99953fa1",
        "colab": {
          "base_uri": "https://localhost:8080/",
          "height": 102
        }
      },
      "source": [
        "def load_file(filepath):\n",
        "\tdataframe = pd.read_csv(filepath, header=None, delim_whitespace=True)\n",
        "\treturn dataframe.values\n",
        " \n",
        "# load a list of files and return as a 3d numpy array\n",
        "def load_group(filenames, prefix=''):\n",
        "\tloaded = list()\n",
        "\tfor name in filenames:\n",
        "\t\tdata = load_file(prefix + name)\n",
        "\t\tloaded.append(data)\n",
        "\t# stack group so that features are the 3rd dimension\n",
        "\tloaded = np.dstack(loaded)\n",
        "\treturn loaded\n",
        " \n",
        "# load a dataset group, such as train or test\n",
        "def load_dataset_group(group, prefix=''):\n",
        "\tfilepath = prefix + group + '/Inertial Signals/'\n",
        "\t# load all 9 files as a single array\n",
        "\tfilenames = list()\n",
        "\t# total acceleration\n",
        "\tfilenames += ['total_acc_x_'+group+'.txt', 'total_acc_y_'+group+'.txt', 'total_acc_z_'+group+'.txt']\n",
        "\t# body acceleration\n",
        "\tfilenames += ['body_acc_x_'+group+'.txt', 'body_acc_y_'+group+'.txt', 'body_acc_z_'+group+'.txt']\n",
        "\t# body gyroscope\n",
        "\tfilenames += ['body_gyro_x_'+group+'.txt', 'body_gyro_y_'+group+'.txt', 'body_gyro_z_'+group+'.txt']\n",
        "\t# load input data\n",
        "\tX = load_group(filenames, filepath)\n",
        "\t# load class output\n",
        "\ty = load_file(prefix + group + '/y_'+group+'.txt')\n",
        "\treturn X, y\n",
        " \n",
        "# load the dataset, returns train and test X and y elements\n",
        "def load_dataset(prefix=''):\n",
        "\t# load all train\n",
        "\ttrainX, trainy = load_dataset_group('train', prefix )\n",
        "\tprint(trainX.shape, trainy.shape)\n",
        "\t# load all test\n",
        "\ttestX, testy = load_dataset_group('test', prefix)\n",
        "\tprint(testX.shape, testy.shape)\n",
        "\t# zero-offset class values\n",
        "\ttrainy = trainy - 1\n",
        "\ttesty = testy - 1\n",
        "\t# one hot encode y\n",
        "\ttrainy = to_categorical(trainy)\n",
        "\ttesty = to_categorical(testy)\n",
        "\tprint(trainX.shape, trainy.shape, testX.shape, testy.shape)\n",
        "\treturn trainX, trainy, testX, testy\n",
        "\n",
        "trainX, trainy, testX, testy = load_dataset(\"drive/ALDA/dataset/\")\n",
        "\n",
        "valX =  trainX[int(0.8*len(trainX)):]\n",
        "print(valX.shape)\n",
        "valy = trainy[int(0.8*len(trainy)):]\n",
        "\n",
        "trainX , trainy = trainX[:int(0.8*len(trainX))] , trainy[:int(0.8*len(trainy))]\n",
        "print(trainX.shape, trainy.shape)\n",
        " "
      ],
      "execution_count": 0,
      "outputs": [
        {
          "output_type": "stream",
          "text": [
            "(7352, 128, 9) (7352, 1)\n",
            "(2947, 128, 9) (2947, 1)\n",
            "(7352, 128, 9) (7352, 6) (2947, 128, 9) (2947, 6)\n",
            "(1471, 128, 9)\n",
            "(5881, 128, 9) (5881, 6)\n"
          ],
          "name": "stdout"
        }
      ]
    },
    {
      "cell_type": "code",
      "metadata": {
        "id": "gNbpbXzqvIZU",
        "colab_type": "code",
        "outputId": "f8783f0b-acc6-4ad9-b563-a74484103851",
        "colab": {
          "base_uri": "https://localhost:8080/",
          "height": 391
        }
      },
      "source": [
        "model = Sequential()\n",
        "model.add(Conv1D(filters=32, kernel_size=3,activation='relu',kernel_initializer='he_uniform',input_shape=(128,9)))\n",
        "model.add(Conv1D(filters=24, kernel_size=3,activation='relu',kernel_initializer='he_uniform'))\n",
        "model.add(Dropout(0.3))\n",
        "model.add(MaxPooling1D(pool_size=3))\n",
        "model.add(Flatten())\n",
        "model.add(Dense(64, activation='relu'))\n",
        "model.add(Dense(6, activation='softmax'))\n",
        "model.compile(loss='categorical_crossentropy', optimizer='adam', metrics=['accuracy'])\n",
        "\n",
        "model.summary()\n",
        "# model.fit(trainX, trainy, epochs=10, batch_size=8, validation_data=(valX, valy),callbacks=[tb, csv_logger])\n",
        "# \t# evaluate model\n",
        "# _, accuracy = model.evaluate(testX, testy, batch_size=8)\n",
        "# print(accuracy)"
      ],
      "execution_count": 0,
      "outputs": [
        {
          "output_type": "stream",
          "text": [
            "Model: \"sequential_5\"\n",
            "_________________________________________________________________\n",
            "Layer (type)                 Output Shape              Param #   \n",
            "=================================================================\n",
            "conv1d_9 (Conv1D)            (None, 126, 32)           896       \n",
            "_________________________________________________________________\n",
            "conv1d_10 (Conv1D)           (None, 124, 24)           2328      \n",
            "_________________________________________________________________\n",
            "dropout_5 (Dropout)          (None, 124, 24)           0         \n",
            "_________________________________________________________________\n",
            "max_pooling1d_5 (MaxPooling1 (None, 41, 24)            0         \n",
            "_________________________________________________________________\n",
            "flatten_5 (Flatten)          (None, 984)               0         \n",
            "_________________________________________________________________\n",
            "dense_9 (Dense)              (None, 64)                63040     \n",
            "_________________________________________________________________\n",
            "dense_10 (Dense)             (None, 6)                 390       \n",
            "=================================================================\n",
            "Total params: 66,654\n",
            "Trainable params: 66,654\n",
            "Non-trainable params: 0\n",
            "_________________________________________________________________\n"
          ],
          "name": "stdout"
        }
      ]
    },
    {
      "cell_type": "code",
      "metadata": {
        "id": "a7r11GtpucWS",
        "colab_type": "code",
        "colab": {}
      },
      "source": [
        "filename = 'CNN_model_new.sav'\n",
        "pickle.dump(model, open(filename, 'wb'))"
      ],
      "execution_count": 0,
      "outputs": []
    },
    {
      "cell_type": "markdown",
      "metadata": {
        "id": "2j0EHrZi0AvE",
        "colab_type": "text"
      },
      "source": [
        "## LSTM\n",
        "\n"
      ]
    },
    {
      "cell_type": "code",
      "metadata": {
        "id": "NckEsV1J0N86",
        "colab_type": "code",
        "colab": {}
      },
      "source": [
        "from sklearn.preprocessing import StandardScaler\n",
        "from keras.models import Sequential\n",
        "from keras.layers import Dense\n",
        "from keras.layers import Flatten\n",
        "from keras.layers import Dropout\n",
        "from keras.layers.convolutional import Conv1D\n",
        "from keras.layers.convolutional import MaxPooling1D\n",
        "from keras.utils import to_categorical\n",
        "from keras.models import Sequential\n",
        "from keras.layers import LSTM\n",
        "from keras.layers.core import Dense, Dropout\n",
        "from sklearn import preprocessing\n",
        "import os\n",
        "from keras.callbacks import TensorBoard, ModelCheckpoint, EarlyStopping, CSVLogger\n",
        "import time"
      ],
      "execution_count": 0,
      "outputs": []
    },
    {
      "cell_type": "code",
      "metadata": {
        "id": "VFDlcHtrZyus",
        "colab_type": "code",
        "colab": {}
      },
      "source": [
        "# TensorBoard logs\n",
        "tb = TensorBoard(log_dir=os.path.join('drive/ALDA/', 'logs', \"CNN\"))\n",
        "\n",
        "early_stopper  = EarlyStopping(patience=5)\n",
        "# Save results.\n",
        "timestamp = time.time()\n",
        "csv_logger = CSVLogger(os.path.join('drive/ALDA/', 'logs', \"RNN\" + '-' + 'training-' + \\\n",
        "    str(timestamp) + '.log'))\n",
        "\n",
        "#RNN_LSTM"
      ],
      "execution_count": 0,
      "outputs": []
    },
    {
      "cell_type": "code",
      "metadata": {
        "id": "ZBvoCKqx0TzQ",
        "colab_type": "code",
        "outputId": "11d068d5-1f82-4b22-8a1b-c78f705f8f38",
        "colab": {
          "base_uri": "https://localhost:8080/",
          "height": 51
        }
      },
      "source": [
        "timesteps = trainX.shape[1]\n",
        "input_dim = trainX.shape[2]\n",
        "n_classes  = 6\n",
        "print(timesteps)\n",
        "print(input_dim)"
      ],
      "execution_count": 0,
      "outputs": [
        {
          "output_type": "stream",
          "text": [
            "128\n",
            "9\n"
          ],
          "name": "stdout"
        }
      ]
    },
    {
      "cell_type": "code",
      "metadata": {
        "id": "vQfjWTS90AFM",
        "colab_type": "code",
        "outputId": "7e251b7f-cb3b-4fe8-a2ef-beda3fcb5971",
        "colab": {
          "base_uri": "https://localhost:8080/",
          "height": 340
        }
      },
      "source": [
        "model = Sequential()\n",
        "model.add(LSTM(32,return_sequences=True,input_shape=(timesteps, input_dim)))\n",
        "model.add(Dropout(0.5))\n",
        "model.add(LSTM(28,input_shape=(timesteps, input_dim)))\n",
        "model.add(Dropout(0.6))\n",
        "model.add(Dense(n_classes, activation='sigmoid'))\n",
        "model.summary()\n"
      ],
      "execution_count": 0,
      "outputs": [
        {
          "output_type": "stream",
          "text": [
            "WARNING:tensorflow:Large dropout rate: 0.6 (>0.5). In TensorFlow 2.x, dropout() uses dropout rate instead of keep_prob. Please ensure that this is intended.\n",
            "Model: \"sequential_2\"\n",
            "_________________________________________________________________\n",
            "Layer (type)                 Output Shape              Param #   \n",
            "=================================================================\n",
            "lstm_1 (LSTM)                (None, 128, 32)           5376      \n",
            "_________________________________________________________________\n",
            "dropout_2 (Dropout)          (None, 128, 32)           0         \n",
            "_________________________________________________________________\n",
            "lstm_2 (LSTM)                (None, 28)                6832      \n",
            "_________________________________________________________________\n",
            "dropout_3 (Dropout)          (None, 28)                0         \n",
            "_________________________________________________________________\n",
            "dense_3 (Dense)              (None, 6)                 174       \n",
            "=================================================================\n",
            "Total params: 12,382\n",
            "Trainable params: 12,382\n",
            "Non-trainable params: 0\n",
            "_________________________________________________________________\n"
          ],
          "name": "stdout"
        }
      ]
    },
    {
      "cell_type": "code",
      "metadata": {
        "id": "2RGFW-xF0HpE",
        "colab_type": "code",
        "colab": {}
      },
      "source": [
        "model.compile(loss='categorical_crossentropy',\n",
        "              optimizer='rmsprop',\n",
        "              metrics=['accuracy'])"
      ],
      "execution_count": 0,
      "outputs": []
    },
    {
      "cell_type": "code",
      "metadata": {
        "id": "ajqN3dF466pX",
        "colab_type": "code",
        "outputId": "335d3989-5182-4629-d5ef-4063f5ed8738",
        "colab": {
          "base_uri": "https://localhost:8080/",
          "height": 51
        }
      },
      "source": [
        "# valX =  trainX[int(0.8*len(trainX)):]\n",
        "# print(valX.shape)\n",
        "# valy = trainy[int(0.8*len(trainy)):]\n",
        "\n",
        "# trainX , trainy = trainX[:int(0.8*len(trainX))] , trainy[:int(0.8*len(trainy))]\n",
        "# print(trainX.shape, trainy.shape)\n"
      ],
      "execution_count": 0,
      "outputs": [
        {
          "output_type": "stream",
          "text": [
            "(941, 128, 9)\n",
            "(3763, 128, 9) (3763, 6)\n"
          ],
          "name": "stdout"
        }
      ]
    },
    {
      "cell_type": "code",
      "metadata": {
        "id": "BM4k5VcW08YK",
        "colab_type": "code",
        "outputId": "184f472f-a548-4385-b325-b6b2e6fad672",
        "colab": {
          "base_uri": "https://localhost:8080/",
          "height": 955
        }
      },
      "source": [
        "model.fit(trainX,\n",
        "          trainy,\n",
        "          batch_size=16,\n",
        "          validation_data=(valX, valy),\n",
        "          callbacks=[tb, early_stopper, csv_logger],\n",
        "          epochs=30)"
      ],
      "execution_count": 0,
      "outputs": [
        {
          "output_type": "stream",
          "text": [
            "Train on 5881 samples, validate on 1471 samples\n",
            "Epoch 1/30\n",
            "5881/5881 [==============================] - 60s 10ms/step - loss: 1.2937 - acc: 0.4739 - val_loss: 1.0413 - val_acc: 0.5452\n",
            "WARNING:tensorflow:From /usr/local/lib/python3.6/dist-packages/keras/callbacks.py:1265: The name tf.Summary is deprecated. Please use tf.compat.v1.Summary instead.\n",
            "\n",
            "Epoch 2/30\n",
            "5881/5881 [==============================] - 57s 10ms/step - loss: 0.9313 - acc: 0.6123 - val_loss: 0.8825 - val_acc: 0.6669\n",
            "Epoch 3/30\n",
            "5881/5881 [==============================] - 59s 10ms/step - loss: 0.8008 - acc: 0.6467 - val_loss: 0.7981 - val_acc: 0.6424\n",
            "Epoch 4/30\n",
            "5881/5881 [==============================] - 58s 10ms/step - loss: 0.7566 - acc: 0.6609 - val_loss: 0.7652 - val_acc: 0.6818\n",
            "Epoch 5/30\n",
            "5881/5881 [==============================] - 58s 10ms/step - loss: 0.6619 - acc: 0.7097 - val_loss: 0.7741 - val_acc: 0.7831\n",
            "Epoch 6/30\n",
            "5881/5881 [==============================] - 59s 10ms/step - loss: 0.6438 - acc: 0.7279 - val_loss: 0.6179 - val_acc: 0.7369\n",
            "Epoch 7/30\n",
            "5881/5881 [==============================] - 58s 10ms/step - loss: 0.5941 - acc: 0.7541 - val_loss: 0.6183 - val_acc: 0.7328\n",
            "Epoch 8/30\n",
            "5881/5881 [==============================] - 57s 10ms/step - loss: 0.5669 - acc: 0.7574 - val_loss: 0.6148 - val_acc: 0.7437\n",
            "Epoch 9/30\n",
            "5881/5881 [==============================] - 57s 10ms/step - loss: 0.5360 - acc: 0.7723 - val_loss: 0.5501 - val_acc: 0.7539\n",
            "Epoch 10/30\n",
            "5881/5881 [==============================] - 59s 10ms/step - loss: 0.4594 - acc: 0.7868 - val_loss: 0.4850 - val_acc: 0.7512\n",
            "Epoch 11/30\n",
            "5881/5881 [==============================] - 56s 10ms/step - loss: 0.4334 - acc: 0.7886 - val_loss: 0.4836 - val_acc: 0.7634\n",
            "Epoch 12/30\n",
            "5881/5881 [==============================] - 58s 10ms/step - loss: 0.4176 - acc: 0.7936 - val_loss: 0.5383 - val_acc: 0.7539\n",
            "Epoch 13/30\n",
            "5881/5881 [==============================] - 57s 10ms/step - loss: 0.4090 - acc: 0.8048 - val_loss: 0.5167 - val_acc: 0.7641\n",
            "Epoch 14/30\n",
            "5881/5881 [==============================] - 58s 10ms/step - loss: 0.4057 - acc: 0.8073 - val_loss: 0.4776 - val_acc: 0.7655\n",
            "Epoch 15/30\n",
            "5881/5881 [==============================] - 56s 10ms/step - loss: 0.3936 - acc: 0.8245 - val_loss: 0.4713 - val_acc: 0.8586\n",
            "Epoch 16/30\n",
            "5881/5881 [==============================] - 58s 10ms/step - loss: 0.3735 - acc: 0.8320 - val_loss: 0.4865 - val_acc: 0.8484\n",
            "Epoch 17/30\n",
            "5881/5881 [==============================] - 57s 10ms/step - loss: 0.3755 - acc: 0.8284 - val_loss: 0.4394 - val_acc: 0.8824\n",
            "Epoch 18/30\n",
            "5881/5881 [==============================] - 57s 10ms/step - loss: 0.3793 - acc: 0.8390 - val_loss: 0.4125 - val_acc: 0.8824\n",
            "Epoch 19/30\n",
            "5881/5881 [==============================] - 57s 10ms/step - loss: 0.3273 - acc: 0.8725 - val_loss: 0.3616 - val_acc: 0.9082\n",
            "Epoch 20/30\n",
            "5881/5881 [==============================] - 57s 10ms/step - loss: 0.2885 - acc: 0.9078 - val_loss: 0.2931 - val_acc: 0.9103\n",
            "Epoch 21/30\n",
            "5881/5881 [==============================] - 58s 10ms/step - loss: 0.2585 - acc: 0.9220 - val_loss: 0.3338 - val_acc: 0.8878\n",
            "Epoch 22/30\n",
            "5881/5881 [==============================] - 58s 10ms/step - loss: 0.2571 - acc: 0.9221 - val_loss: 0.3470 - val_acc: 0.9075\n",
            "Epoch 23/30\n",
            "5881/5881 [==============================] - 57s 10ms/step - loss: 0.2165 - acc: 0.9362 - val_loss: 0.3370 - val_acc: 0.9089\n",
            "Epoch 24/30\n",
            "5881/5881 [==============================] - 57s 10ms/step - loss: 0.2186 - acc: 0.9342 - val_loss: 0.3440 - val_acc: 0.9103\n",
            "Epoch 25/30\n",
            "5881/5881 [==============================] - 58s 10ms/step - loss: 0.2105 - acc: 0.9396 - val_loss: 0.3391 - val_acc: 0.9021\n"
          ],
          "name": "stdout"
        },
        {
          "output_type": "execute_result",
          "data": {
            "text/plain": [
              "<keras.callbacks.History at 0x7f2f382095f8>"
            ]
          },
          "metadata": {
            "tags": []
          },
          "execution_count": 17
        }
      ]
    },
    {
      "cell_type": "code",
      "metadata": {
        "id": "Ytc_xxCEHBCv",
        "colab_type": "code",
        "colab": {}
      },
      "source": [
        "filename = 'RNN_LSTM_model_new.sav'\n",
        "pickle.dump(model, open(filename, 'wb'))"
      ],
      "execution_count": 0,
      "outputs": []
    },
    {
      "cell_type": "code",
      "metadata": {
        "id": "Np0fqamw4Me1",
        "colab_type": "code",
        "outputId": "b6efb454-a7c8-4b6f-f45d-5637a6831aae",
        "colab": {
          "base_uri": "https://localhost:8080/",
          "height": 51
        }
      },
      "source": [
        "_, accuracy = model.evaluate(testX, testy, batch_size=16)\n",
        "print(accuracy)"
      ],
      "execution_count": 0,
      "outputs": [
        {
          "output_type": "stream",
          "text": [
            "2947/2947 [==============================] - 4s 1ms/step\n",
            "0.9070240922972514\n"
          ],
          "name": "stdout"
        }
      ]
    },
    {
      "cell_type": "code",
      "metadata": {
        "id": "jsLECf0RZzLv",
        "colab_type": "code",
        "outputId": "e0a32add-a02c-4cc3-93cb-015058037580",
        "colab": {
          "base_uri": "https://localhost:8080/",
          "height": 279
        }
      },
      "source": [
        "\"\"\"plot the results of training\"\"\"\n",
        "import csv\n",
        "import matplotlib.pyplot as plt\n",
        "\n",
        "def plot_graphs(logfile):\n",
        "    with open(logfile) as fin:\n",
        "        reader = csv.reader(fin)\n",
        "        next(reader, None)  # skip the header\n",
        "        accuracy_train = []\n",
        "        accuracy_validation = []\n",
        "        loss_train = []\n",
        "        loss_validation = []\n",
        "        epochs = []\n",
        "        cnn_benchmark = []  \n",
        "\n",
        "        for epoch,acc,loss,val_acc,val_loss in reader:\n",
        "              accuracy_train.append(float(acc))\n",
        "              accuracy_validation.append(float(val_acc))\n",
        "              epochs.append(epoch)\n",
        "              cnn_benchmark.append(0.65) \n",
        "\n",
        "        fig = plt.figure()\n",
        "        ax1 = fig.add_subplot(111)\n",
        "\n",
        "        ax1.plot(epochs, accuracy_train, label=\"training\")\n",
        "        ax1.plot(epochs, accuracy_train, \"b\")\n",
        "        ax1.plot(epochs, accuracy_validation, label=\"validation\")\n",
        "        ax1.plot(epochs, accuracy_validation, \"r\")\n",
        "        ax1.legend(loc=2)\n",
        "        plt.xticks(epochs)\n",
        "        plt.xlabel(\"Epochs\")\n",
        "        plt.ylabel(\"Accuracy\")\n",
        "\n",
        "        plt.show()\n",
        "\n",
        "plot_graphs(\"drive/ALDA/logs/CNN-training-1574736022.041377.log\")\n"
      ],
      "execution_count": 0,
      "outputs": [
        {
          "output_type": "display_data",
          "data": {
            "image/png": "[encoded data removed]",
            "text/plain": [
              "<Figure size 432x288 with 1 Axes>"
            ]
          },
          "metadata": {
            "tags": []
          }
        }
      ]
    },
    {
      "cell_type": "code",
      "metadata": {
        "id": "_Mb_sYjWdWGL",
        "colab_type": "code",
        "outputId": "d297fab2-de63-4d4c-bde9-58cc317c0179",
        "colab": {
          "base_uri": "https://localhost:8080/",
          "height": 297
        }
      },
      "source": [
        "def plot_results(result3, result2, result1):\n",
        "\n",
        "    data = np.array([result3, result2, result1])    \n",
        "\n",
        "    length = len(data)\n",
        "    x_labels = ['SVM', 'CNN', 'RNN-LSTM']\n",
        "\n",
        "    fig, ax = plt.subplots()\n",
        "    # fig.set_size_inches(18.5, 10.5)\n",
        "    width = 0.2\n",
        "    x = np.arange(length)\n",
        "\n",
        "    ax.bar(x, data[:,0], width, color='#78f542', label='CNN-MLP')\n",
        "    ax.bar(x + width, data[:,1], width, color='#0F52BA', label='CNN-LSTM')\n",
        "\n",
        "    ax.set_ylabel('Accuracy')\n",
        "    ax.set_ylim(0,1.5)\n",
        "    ax.set_xticks(x + width + width/2)\n",
        "    ax.set_xticklabels(x_labels)\n",
        "    ax.set_xlabel('Model')\n",
        "    ax.set_title('Accuracy Plot')\n",
        "    plt.legend(['train', 'test'], loc='upper left')\n",
        "\n",
        "    fig.tight_layout()\n",
        "    plt.show()\n",
        "\n",
        "svm = [0.93, 0.94]\n",
        "cnn = [0.9667, 0.8853]\n",
        "LSTM = [0.9396,0.9070]\n",
        "plot_results(svm, cnn, LSTM)"
      ],
      "execution_count": 0,
      "outputs": [
        {
          "output_type": "display_data",
          "data": {
            "image/png": "[encoded data removed]",
            "text/plain": [
              "<Figure size 432x288 with 1 Axes>"
            ]
          },
          "metadata": {
            "tags": []
          }
        }
      ]
    }
  ]
}